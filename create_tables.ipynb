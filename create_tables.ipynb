{
 "cells": [
  {
   "cell_type": "code",
   "execution_count": 293,
   "id": "4d994ed6",
   "metadata": {},
   "outputs": [
    {
     "name": "stdout",
     "output_type": "stream",
     "text": [
      "The matrepr extension is already loaded. To reload it, use:\n",
      "  %reload_ext matrepr\n"
     ]
    }
   ],
   "source": [
    "%load_ext matrepr"
   ]
  },
  {
   "cell_type": "code",
   "execution_count": 294,
   "id": "29a2fd57",
   "metadata": {},
   "outputs": [],
   "source": [
    "import numpy as np\n",
    "import matrepr\n",
    "import pickle as pkl\n",
    "import json\n",
    "from pathlib import Path\n",
    "import re\n",
    "from evaluation import MetricScore"
   ]
  },
  {
   "cell_type": "code",
   "execution_count": 295,
   "id": "56393b91",
   "metadata": {},
   "outputs": [
    {
     "data": {
      "text/plain": [
       "[]"
      ]
     },
     "execution_count": 295,
     "metadata": {},
     "output_type": "execute_result"
    }
   ],
   "source": [
    "list(Path(\"/\").glob(\"{var|home}\"))"
   ]
  },
  {
   "cell_type": "code",
   "execution_count": 296,
   "id": "3073e53c",
   "metadata": {},
   "outputs": [
    {
     "data": {
      "text/plain": [
       "[0, 1, 2]"
      ]
     },
     "execution_count": 296,
     "metadata": {},
     "output_type": "execute_result"
    }
   ],
   "source": [
    "sorted([1, 2, 0])"
   ]
  },
  {
   "cell_type": "code",
   "execution_count": 298,
   "id": "14c97ec0",
   "metadata": {},
   "outputs": [],
   "source": [
    "def gather_numbers_one(path=\"/USERSPACE/lukovdg1/DenseDiffusion/gligen_outputs/with_bgr/tau=1.0/\", \n",
    "                   experiments=[\"*extradev*\", \"*foursquares2*\", \"*openair*\", \"*threeballs*\", \"*threecoloredballs*\", \"*threeorange*\", \"*threesimplefruits*\"]):\n",
    "    root = Path(path)\n",
    "    colnames = None\n",
    "    alldata = []\n",
    "    for experimentglob in experiments:\n",
    "        cand_exppaths = []\n",
    "        for exppath in root.glob(experimentglob):\n",
    "            cand_exppaths.append(exppath)\n",
    "        exppath = sorted(cand_exppaths, reverse=True)[0]\n",
    "        with open(exppath / \"evaluation_results_raw.json\") as f:\n",
    "            evalres = json.load(f)\n",
    "        _colnames = evalres[\"colnames\"]\n",
    "        if colnames is None:\n",
    "            colnames = _colnames\n",
    "        assert tuple(_colnames) == tuple(colnames)\n",
    "        evaldata = evalres[\"data\"]\n",
    "        alldata.append(evaldata)\n",
    "        print(exppath, len(evaldata))\n",
    "    return alldata, colnames\n",
    "\n",
    "\n",
    "def process_numbers_one(data, colnames):\n",
    "    data = [batchdata for datasetdata in data for batchdata in datasetdata]\n",
    "    data = np.array(data)     # (num_batches, num_seeds, num_metrics)\n",
    "    means_per_seed = data.mean(0).T\n",
    "    means_over_seeds, stds_over_seeds = means_per_seed.mean(1), means_per_seed.std(1)\n",
    "    \n",
    "    higher_is_better = np.array([True if MetricScore.from_string(colname).higher_is_better else False for colname in colnames])\n",
    "    max_over_seeds = data.max(1).mean(0)\n",
    "    min_over_seeds = data.min(1).mean(0)\n",
    "    best_over_seeds = np.where(higher_is_better, max_over_seeds, min_over_seeds)\n",
    "\n",
    "    means_over_seeds_dict = dict(zip(colnames, list(means_over_seeds)))\n",
    "    stds_over_seeds_dict = dict(zip(colnames, list(stds_over_seeds)))\n",
    "    best_over_seeds_dict = dict(zip(colnames, list(best_over_seeds)))\n",
    "    datasize = {\n",
    "        \"numbatches\": data.shape[0],\n",
    "        \"numseeds\": data.shape[1]\n",
    "    }\n",
    "    return {\n",
    "        \"means\": means_over_seeds_dict,\n",
    "        \"stds\": stds_over_seeds_dict,\n",
    "        \"best\": best_over_seeds_dict,\n",
    "        \"datastats\": datasize,\n",
    "        \"colnames\": colnames\n",
    "    }\n",
    "\n",
    "\n",
    "class DataRowEntry:\n",
    "    def __init__(self, mean, std, best):\n",
    "        self.mean, self.std, self.best = mean, std, best\n",
    "        \n",
    "    def to_latex(self, showstd=False, showbest=False, precision=2):\n",
    "        ret = f\"${self.mean:.{precision}f}$\"\n",
    "        if showstd:\n",
    "            # ret += f\" {{\\\\tiny $\\pm {self.std:.{precision}f}$}}\"\n",
    "            ret += f\" $^{{\\\\tiny \\pm {self.std:.{precision}f}}}$\"\n",
    "        if showbest:\n",
    "            # ret += f\"$^{{({self.best:.{precision}f})}}$\"\n",
    "            ret += f\"{{\\scriptsize (${self.best:.{precision}f}$) }}\"\n",
    "        return ret\n",
    "\n",
    "\n",
    "class DataRow:\n",
    "    def __init__(self, datadict, rowname=None, selectcols=None):\n",
    "        super().__init__()\n",
    "        self.datadict = datadict\n",
    "        self.rowname = rowname\n",
    "        self.selectcols = [str(selectcol) for selectcol in selectcols] if selectcols is not None else None\n",
    "        self.process_data()\n",
    "        \n",
    "    def process_data(self):\n",
    "        if self.selectcols is None:\n",
    "            selectedcols = []\n",
    "            for metric in self.datadict[\"means\"].keys():\n",
    "                selectedcols.append(str(metric))\n",
    "        else:\n",
    "            selectedcols = [selectedcol for selectedcol in self.selectcols if selectedcol in self.datadict[\"means\"]]\n",
    "        \n",
    "        entries = []\n",
    "        for selectedcol in selectedcols:\n",
    "            entries.append(DataRowEntry(self.datadict[\"means\"][selectedcol], self.datadict[\"stds\"][selectedcol], self.datadict[\"best\"][selectedcol]))\n",
    "        \n",
    "        self.entries = entries\n",
    "        self.selectedcols = selectedcols\n",
    "        \n",
    "    def to_latex(self, showstd=False, showbest=False, lastrow=False, precision=2):\n",
    "        ret = \" & \".join([entry.to_latex(showstd=showstd, showbest=showbest, precision=precision) for entry in self.entries])\n",
    "        if self.rowname is not None:\n",
    "            ret = f\"{self.rowname} & \" + ret\n",
    "        if not lastrow:\n",
    "            ret += \" \\\\\\\\\"\n",
    "        return ret\n",
    "    \n",
    "\n",
    "class StringRow:\n",
    "    def __init__(self, x):\n",
    "        self.x = x\n",
    "        \n",
    "    def to_latex(self, **kw):\n",
    "        return self.x\n"
   ]
  },
  {
   "cell_type": "code",
   "execution_count": 299,
   "id": "d382f4c3",
   "metadata": {},
   "outputs": [],
   "source": [
    "def get_datarows(paths=((\"GLIGEN (\\\\tau=1.0)\", \"/USERSPACE/lukovdg1/DenseDiffusion/gligen_outputs/with_bgr/tau=1.0\"),\n",
    "                        (\"DD (orig.)\", \"/USERSPACE/lukovdg1/DenseDiffusion/dd_outputs\"),\n",
    "                        (\"ControlNet*\", \"/USERSPACE/lukovdg1/controlnet11/checkpoints/v5/checkpoints_coco_global_v5_exp_1\"),\n",
    "                        (\"\\quad +CAC\", \"/USERSPACE/lukovdg1/controlnet11/checkpoints/v5/checkpoints_coco_cac_v5_exp_1\"),\n",
    "                        (\"\\quad +DD (w=0.5)\", \"/USERSPACE/lukovdg1/controlnet11/checkpoints/v5/checkpoints_coco_dd_v5_exp_1/\"),\n",
    "                        (\"\\quad +eDiff-I (w=0.5)\", \"/USERSPACE/lukovdg1/controlnet11/checkpoints/v5/checkpoints_coco_legacy-NewEdiffipp_v5_exp_2/\"),\n",
    "                        (\"\\quad +CA-Redist (a+m)\", \"/USERSPACE/lukovdg1/controlnet11/checkpoints/v5/checkpoints_coco_posattn5a_v5_exp_5/\"),\n",
    "                        (\"\\quad +CA-Redist (m)\", \"/USERSPACE/lukovdg1/controlnet11/checkpoints/v5/checkpoints_coco_posattn5a_v5_exp_2/\"),\n",
    "                        (\"\\quad +CA-Redist (a)\", \"/USERSPACE/lukovdg1/controlnet11/checkpoints/v5/checkpoints_coco_posattn5a_v5_exp_4/\"),\n",
    "                        (\"\\quad +CA-Redist (none)\", \"/USERSPACE/lukovdg1/controlnet11/checkpoints/v5/checkpoints_coco_posattn5a_v5_exp_1/\"),\n",
    "                       ),\n",
    "                 experiments=[\"*extradev*\", \"*foursquares2*\", \"*openair1*\", \"*threeballs1*\", \"*threecoloredballs1*\", \"*threeorange1*\", \"*threesimplefruits1*\"],\n",
    "                 selectcols=['Metric[brisque,-]', 'Metric[maniqa,+]', 'Metric[laion_aest_score,+]', 'Metric[localclip_logits,+]', 'Metric[localclip_acc,+]'],\n",
    "                ):\n",
    "    rows = []\n",
    "    for path in paths:\n",
    "        print(path)\n",
    "        if isinstance(path, tuple):\n",
    "            k, v = path\n",
    "            datadict = process_numbers_one(*gather_numbers_one(v, experiments=experiments))\n",
    "            datarow = DataRow(datadict, rowname=k, selectcols=selectcols)\n",
    "            rows.append(datarow)\n",
    "        else:\n",
    "            rows.append(StringRow(path))\n",
    "        \n",
    "    return rows"
   ]
  },
  {
   "cell_type": "code",
   "execution_count": 300,
   "id": "3afaf265",
   "metadata": {
    "scrolled": false
   },
   "outputs": [
    {
     "name": "stdout",
     "output_type": "stream",
     "text": [
      "('GLIGEN (\\\\tau=1.0)', '/USERSPACE/lukovdg1/DenseDiffusion/gligen_outputs/with_bgr/tau=1.0')\n",
      "/USERSPACE/lukovdg1/DenseDiffusion/gligen_outputs/with_bgr/tau=1.0/extradev_1_out 4\n",
      "/USERSPACE/lukovdg1/DenseDiffusion/gligen_outputs/with_bgr/tau=1.0/foursquares2_1_out 20\n",
      "/USERSPACE/lukovdg1/DenseDiffusion/gligen_outputs/with_bgr/tau=1.0/openair1_1_out 20\n",
      "/USERSPACE/lukovdg1/DenseDiffusion/gligen_outputs/with_bgr/tau=1.0/threeballs1_1_out 20\n",
      "/USERSPACE/lukovdg1/DenseDiffusion/gligen_outputs/with_bgr/tau=1.0/threecoloredballs1_1_out 20\n",
      "/USERSPACE/lukovdg1/DenseDiffusion/gligen_outputs/with_bgr/tau=1.0/threeorange1_1_out 20\n",
      "/USERSPACE/lukovdg1/DenseDiffusion/gligen_outputs/with_bgr/tau=1.0/threesimplefruits1_1_out 20\n",
      "('DD (orig.)', '/USERSPACE/lukovdg1/DenseDiffusion/dd_outputs')\n",
      "/USERSPACE/lukovdg1/DenseDiffusion/dd_outputs/extradev_1_out 4\n",
      "/USERSPACE/lukovdg1/DenseDiffusion/dd_outputs/foursquares2_1_out 20\n",
      "/USERSPACE/lukovdg1/DenseDiffusion/dd_outputs/openair1_1_out 20\n",
      "/USERSPACE/lukovdg1/DenseDiffusion/dd_outputs/threeballs1_2_out 20\n",
      "/USERSPACE/lukovdg1/DenseDiffusion/dd_outputs/threecoloredballs1_1_out 20\n",
      "/USERSPACE/lukovdg1/DenseDiffusion/dd_outputs/threeorange1_1_out 20\n",
      "/USERSPACE/lukovdg1/DenseDiffusion/dd_outputs/threesimplefruits1_1_out 20\n",
      "('ControlNet*', '/USERSPACE/lukovdg1/controlnet11/checkpoints/v5/checkpoints_coco_global_v5_exp_1')\n",
      "/USERSPACE/lukovdg1/controlnet11/checkpoints/v5/checkpoints_coco_global_v5_exp_1/generated_extradev.pkl_1 4\n",
      "/USERSPACE/lukovdg1/controlnet11/checkpoints/v5/checkpoints_coco_global_v5_exp_1/generated_foursquares2.pkl_1 20\n",
      "/USERSPACE/lukovdg1/controlnet11/checkpoints/v5/checkpoints_coco_global_v5_exp_1/generated_openair1.pkl_2 20\n",
      "/USERSPACE/lukovdg1/controlnet11/checkpoints/v5/checkpoints_coco_global_v5_exp_1/generated_threeballs1.pkl_1 20\n",
      "/USERSPACE/lukovdg1/controlnet11/checkpoints/v5/checkpoints_coco_global_v5_exp_1/generated_threecoloredballs1.pkl_1 20\n",
      "/USERSPACE/lukovdg1/controlnet11/checkpoints/v5/checkpoints_coco_global_v5_exp_1/generated_threeorange1.pkl_1 20\n",
      "/USERSPACE/lukovdg1/controlnet11/checkpoints/v5/checkpoints_coco_global_v5_exp_1/generated_threesimplefruits1.pkl_1 20\n",
      "('\\\\quad +CAC', '/USERSPACE/lukovdg1/controlnet11/checkpoints/v5/checkpoints_coco_cac_v5_exp_1')\n",
      "/USERSPACE/lukovdg1/controlnet11/checkpoints/v5/checkpoints_coco_cac_v5_exp_1/generated_extradev.pkl_1 4\n",
      "/USERSPACE/lukovdg1/controlnet11/checkpoints/v5/checkpoints_coco_cac_v5_exp_1/generated_foursquares2.pkl_1 20\n",
      "/USERSPACE/lukovdg1/controlnet11/checkpoints/v5/checkpoints_coco_cac_v5_exp_1/generated_openair1.pkl_2 20\n",
      "/USERSPACE/lukovdg1/controlnet11/checkpoints/v5/checkpoints_coco_cac_v5_exp_1/generated_threeballs1.pkl_1 20\n",
      "/USERSPACE/lukovdg1/controlnet11/checkpoints/v5/checkpoints_coco_cac_v5_exp_1/generated_threecoloredballs1.pkl_1 20\n",
      "/USERSPACE/lukovdg1/controlnet11/checkpoints/v5/checkpoints_coco_cac_v5_exp_1/generated_threeorange1.pkl_1 20\n",
      "/USERSPACE/lukovdg1/controlnet11/checkpoints/v5/checkpoints_coco_cac_v5_exp_1/generated_threesimplefruits1.pkl_1 20\n",
      "('\\\\quad +DD (w=0.5)', '/USERSPACE/lukovdg1/controlnet11/checkpoints/v5/checkpoints_coco_dd_v5_exp_1/')\n",
      "/USERSPACE/lukovdg1/controlnet11/checkpoints/v5/checkpoints_coco_dd_v5_exp_1/generated_extradev.pkl_1 4\n",
      "/USERSPACE/lukovdg1/controlnet11/checkpoints/v5/checkpoints_coco_dd_v5_exp_1/generated_foursquares2.pkl_1 20\n",
      "/USERSPACE/lukovdg1/controlnet11/checkpoints/v5/checkpoints_coco_dd_v5_exp_1/generated_openair1.pkl_2 20\n",
      "/USERSPACE/lukovdg1/controlnet11/checkpoints/v5/checkpoints_coco_dd_v5_exp_1/generated_threeballs1.pkl_1 20\n",
      "/USERSPACE/lukovdg1/controlnet11/checkpoints/v5/checkpoints_coco_dd_v5_exp_1/generated_threecoloredballs1.pkl_1 20\n",
      "/USERSPACE/lukovdg1/controlnet11/checkpoints/v5/checkpoints_coco_dd_v5_exp_1/generated_threeorange1.pkl_1 20\n",
      "/USERSPACE/lukovdg1/controlnet11/checkpoints/v5/checkpoints_coco_dd_v5_exp_1/generated_threesimplefruits1.pkl_1 20\n",
      "('\\\\quad +eDiff-I (w=0.5)', '/USERSPACE/lukovdg1/controlnet11/checkpoints/v5/checkpoints_coco_legacy-NewEdiffipp_v5_exp_2/')\n",
      "/USERSPACE/lukovdg1/controlnet11/checkpoints/v5/checkpoints_coco_legacy-NewEdiffipp_v5_exp_2/generated_extradev.pkl_1 4\n",
      "/USERSPACE/lukovdg1/controlnet11/checkpoints/v5/checkpoints_coco_legacy-NewEdiffipp_v5_exp_2/generated_foursquares2.pkl_1 20\n",
      "/USERSPACE/lukovdg1/controlnet11/checkpoints/v5/checkpoints_coco_legacy-NewEdiffipp_v5_exp_2/generated_openair1.pkl_1 20\n",
      "/USERSPACE/lukovdg1/controlnet11/checkpoints/v5/checkpoints_coco_legacy-NewEdiffipp_v5_exp_2/generated_threeballs1.pkl_1 20\n",
      "/USERSPACE/lukovdg1/controlnet11/checkpoints/v5/checkpoints_coco_legacy-NewEdiffipp_v5_exp_2/generated_threecoloredballs1.pkl_1 20\n",
      "/USERSPACE/lukovdg1/controlnet11/checkpoints/v5/checkpoints_coco_legacy-NewEdiffipp_v5_exp_2/generated_threeorange1.pkl_1 20\n",
      "/USERSPACE/lukovdg1/controlnet11/checkpoints/v5/checkpoints_coco_legacy-NewEdiffipp_v5_exp_2/generated_threesimplefruits1.pkl_1 20\n",
      "('\\\\quad +CA-Redist (a+m)', '/USERSPACE/lukovdg1/controlnet11/checkpoints/v5/checkpoints_coco_posattn5a_v5_exp_5/')\n",
      "/USERSPACE/lukovdg1/controlnet11/checkpoints/v5/checkpoints_coco_posattn5a_v5_exp_5/generated_extradev.pkl_1 4\n",
      "/USERSPACE/lukovdg1/controlnet11/checkpoints/v5/checkpoints_coco_posattn5a_v5_exp_5/generated_foursquares2.pkl_2 20\n",
      "/USERSPACE/lukovdg1/controlnet11/checkpoints/v5/checkpoints_coco_posattn5a_v5_exp_5/generated_openair1.pkl_2 20\n",
      "/USERSPACE/lukovdg1/controlnet11/checkpoints/v5/checkpoints_coco_posattn5a_v5_exp_5/generated_threeballs1.pkl_2 20\n",
      "/USERSPACE/lukovdg1/controlnet11/checkpoints/v5/checkpoints_coco_posattn5a_v5_exp_5/generated_threecoloredballs1.pkl_2 20\n",
      "/USERSPACE/lukovdg1/controlnet11/checkpoints/v5/checkpoints_coco_posattn5a_v5_exp_5/generated_threeorange1.pkl_1 20\n",
      "/USERSPACE/lukovdg1/controlnet11/checkpoints/v5/checkpoints_coco_posattn5a_v5_exp_5/generated_threesimplefruits1.pkl_2 20\n",
      "('\\\\quad +CA-Redist (m)', '/USERSPACE/lukovdg1/controlnet11/checkpoints/v5/checkpoints_coco_posattn5a_v5_exp_2/')\n",
      "/USERSPACE/lukovdg1/controlnet11/checkpoints/v5/checkpoints_coco_posattn5a_v5_exp_2/generated_extradev.pkl_1 4\n",
      "/USERSPACE/lukovdg1/controlnet11/checkpoints/v5/checkpoints_coco_posattn5a_v5_exp_2/generated_foursquares2.pkl_2 20\n",
      "/USERSPACE/lukovdg1/controlnet11/checkpoints/v5/checkpoints_coco_posattn5a_v5_exp_2/generated_openair1.pkl_2 20\n",
      "/USERSPACE/lukovdg1/controlnet11/checkpoints/v5/checkpoints_coco_posattn5a_v5_exp_2/generated_threeballs1.pkl_2 20\n",
      "/USERSPACE/lukovdg1/controlnet11/checkpoints/v5/checkpoints_coco_posattn5a_v5_exp_2/generated_threecoloredballs1.pkl_2 20\n",
      "/USERSPACE/lukovdg1/controlnet11/checkpoints/v5/checkpoints_coco_posattn5a_v5_exp_2/generated_threeorange1.pkl_1 20\n",
      "/USERSPACE/lukovdg1/controlnet11/checkpoints/v5/checkpoints_coco_posattn5a_v5_exp_2/generated_threesimplefruits1.pkl_2 20\n",
      "('\\\\quad +CA-Redist (a)', '/USERSPACE/lukovdg1/controlnet11/checkpoints/v5/checkpoints_coco_posattn5a_v5_exp_4/')\n",
      "/USERSPACE/lukovdg1/controlnet11/checkpoints/v5/checkpoints_coco_posattn5a_v5_exp_4/generated_extradev.pkl_1 4\n",
      "/USERSPACE/lukovdg1/controlnet11/checkpoints/v5/checkpoints_coco_posattn5a_v5_exp_4/generated_foursquares2.pkl_2 20\n",
      "/USERSPACE/lukovdg1/controlnet11/checkpoints/v5/checkpoints_coco_posattn5a_v5_exp_4/generated_openair1.pkl_2 20\n",
      "/USERSPACE/lukovdg1/controlnet11/checkpoints/v5/checkpoints_coco_posattn5a_v5_exp_4/generated_threeballs1.pkl_2 20\n",
      "/USERSPACE/lukovdg1/controlnet11/checkpoints/v5/checkpoints_coco_posattn5a_v5_exp_4/generated_threecoloredballs1.pkl_2 20\n",
      "/USERSPACE/lukovdg1/controlnet11/checkpoints/v5/checkpoints_coco_posattn5a_v5_exp_4/generated_threeorange1.pkl_1 20\n",
      "/USERSPACE/lukovdg1/controlnet11/checkpoints/v5/checkpoints_coco_posattn5a_v5_exp_4/generated_threesimplefruits1.pkl_2 20\n",
      "('\\\\quad +CA-Redist (none)', '/USERSPACE/lukovdg1/controlnet11/checkpoints/v5/checkpoints_coco_posattn5a_v5_exp_1/')\n",
      "/USERSPACE/lukovdg1/controlnet11/checkpoints/v5/checkpoints_coco_posattn5a_v5_exp_1/generated_extradev.pkl_1 4\n",
      "/USERSPACE/lukovdg1/controlnet11/checkpoints/v5/checkpoints_coco_posattn5a_v5_exp_1/generated_foursquares2.pkl_2 20\n",
      "/USERSPACE/lukovdg1/controlnet11/checkpoints/v5/checkpoints_coco_posattn5a_v5_exp_1/generated_openair1.pkl_2 20\n",
      "/USERSPACE/lukovdg1/controlnet11/checkpoints/v5/checkpoints_coco_posattn5a_v5_exp_1/generated_threeballs1.pkl_2 20\n",
      "/USERSPACE/lukovdg1/controlnet11/checkpoints/v5/checkpoints_coco_posattn5a_v5_exp_1/generated_threecoloredballs1.pkl_2 20\n",
      "/USERSPACE/lukovdg1/controlnet11/checkpoints/v5/checkpoints_coco_posattn5a_v5_exp_1/generated_threeorange1.pkl_2 20\n",
      "/USERSPACE/lukovdg1/controlnet11/checkpoints/v5/checkpoints_coco_posattn5a_v5_exp_1/generated_threesimplefruits1.pkl_2 20\n",
      "\n",
      "GLIGEN (\\tau=1.0) & $30.56$ $^{\\tiny \\pm 1.78}${\\scriptsize ($10.23$) } & $0.65$ $^{\\tiny \\pm 0.00}${\\scriptsize ($0.70$) } & $5.51$ $^{\\tiny \\pm 0.04}${\\scriptsize ($6.08$) } & $21.60$ $^{\\tiny \\pm 0.17}${\\scriptsize ($23.19$) } & $0.33$ $^{\\tiny \\pm 0.01}${\\scriptsize ($0.50$) } \\\\\n",
      "DD (orig.) & $32.69$ $^{\\tiny \\pm 1.14}${\\scriptsize ($12.96$) } & $0.65$ $^{\\tiny \\pm 0.00}${\\scriptsize ($0.69$) } & $5.76$ $^{\\tiny \\pm 0.03}${\\scriptsize ($6.33$) } & $21.52$ $^{\\tiny \\pm 0.06}${\\scriptsize ($22.83$) } & $0.45$ $^{\\tiny \\pm 0.01}${\\scriptsize ($0.58$) } \\\\\n",
      "ControlNet* & $25.23$ $^{\\tiny \\pm 1.46}${\\scriptsize ($7.65$) } & $0.66$ $^{\\tiny \\pm 0.00}${\\scriptsize ($0.70$) } & $5.70$ $^{\\tiny \\pm 0.02}${\\scriptsize ($6.25$) } & $20.99$ $^{\\tiny \\pm 0.12}${\\scriptsize ($22.60$) } & $0.25$ $^{\\tiny \\pm 0.01}${\\scriptsize ($0.41$) } \\\\\n",
      "\\quad +CAC & $26.97$ $^{\\tiny \\pm 1.02}${\\scriptsize ($8.99$) } & $0.67$ $^{\\tiny \\pm 0.00}${\\scriptsize ($0.71$) } & $5.71$ $^{\\tiny \\pm 0.05}${\\scriptsize ($6.29$) } & $22.28$ $^{\\tiny \\pm 0.23}${\\scriptsize ($23.84$) } & $0.44$ $^{\\tiny \\pm 0.02}${\\scriptsize ($0.61$) } \\\\\n",
      "\\quad +DD (w=0.5) & $24.50$ $^{\\tiny \\pm 1.94}${\\scriptsize ($8.39$) } & $0.66$ $^{\\tiny \\pm 0.00}${\\scriptsize ($0.70$) } & $5.74$ $^{\\tiny \\pm 0.05}${\\scriptsize ($6.21$) } & $22.93$ $^{\\tiny \\pm 0.11}${\\scriptsize ($24.18$) } & $0.48$ $^{\\tiny \\pm 0.02}${\\scriptsize ($0.59$) } \\\\\n",
      "\\quad +eDiff-I (w=0.5) & $23.75$ $^{\\tiny \\pm 1.15}${\\scriptsize ($10.86$) } & $0.66$ $^{\\tiny \\pm 0.00}${\\scriptsize ($0.70$) } & $5.73$ $^{\\tiny \\pm 0.02}${\\scriptsize ($6.22$) } & $23.36$ $^{\\tiny \\pm 0.13}${\\scriptsize ($24.43$) } & $0.58$ $^{\\tiny \\pm 0.02}${\\scriptsize ($0.68$) } \\\\\n",
      "\\quad +CA-Redist (a+m) & $25.40$ $^{\\tiny \\pm 2.29}${\\scriptsize ($10.10$) } & $0.67$ $^{\\tiny \\pm 0.00}${\\scriptsize ($0.71$) } & $5.74$ $^{\\tiny \\pm 0.02}${\\scriptsize ($6.22$) } & $23.77$ $^{\\tiny \\pm 0.11}${\\scriptsize ($24.89$) } & $0.62$ $^{\\tiny \\pm 0.01}${\\scriptsize ($0.73$) } \\\\\n",
      "\\quad +CA-Redist (m) & $27.37$ $^{\\tiny \\pm 2.00}${\\scriptsize ($10.54$) } & $0.68$ $^{\\tiny \\pm 0.00}${\\scriptsize ($0.71$) } & $5.68$ $^{\\tiny \\pm 0.05}${\\scriptsize ($6.18$) } & $23.70$ $^{\\tiny \\pm 0.13}${\\scriptsize ($24.80$) } & $0.62$ $^{\\tiny \\pm 0.01}${\\scriptsize ($0.72$) } \\\\\n",
      "\\quad +CA-Redist (a) & $24.86$ $^{\\tiny \\pm 1.33}${\\scriptsize ($8.41$) } & $0.67$ $^{\\tiny \\pm 0.00}${\\scriptsize ($0.71$) } & $5.69$ $^{\\tiny \\pm 0.01}${\\scriptsize ($6.20$) } & $23.52$ $^{\\tiny \\pm 0.07}${\\scriptsize ($24.74$) } & $0.58$ $^{\\tiny \\pm 0.01}${\\scriptsize ($0.70$) } \\\\\n",
      "\\quad +CA-Redist (none) & $25.13$ $^{\\tiny \\pm 1.54}${\\scriptsize ($8.14$) } & $0.67$ $^{\\tiny \\pm 0.00}${\\scriptsize ($0.70$) } & $5.65$ $^{\\tiny \\pm 0.04}${\\scriptsize ($6.20$) } & $23.26$ $^{\\tiny \\pm 0.04}${\\scriptsize ($24.60$) } & $0.56$ $^{\\tiny \\pm 0.01}${\\scriptsize ($0.70$) } \\\\\n"
     ]
    }
   ],
   "source": [
    "rows = get_datarows()\n",
    "print(\"\")\n",
    "rows = [row.to_latex(showstd=True, showbest=True) for row in rows]\n",
    "print(\"\\n\".join(rows))"
   ]
  },
  {
   "cell_type": "code",
   "execution_count": 275,
   "id": "1d1a30c6",
   "metadata": {},
   "outputs": [
    {
     "name": "stdout",
     "output_type": "stream",
     "text": [
      "$9.22$ $^{\\tiny \\pm 1.20}${\\scriptsize ($12.34$) }\n"
     ]
    }
   ],
   "source": [
    "print(DataRowEntry(09.22344, 1.2, 12.34).to_latex(showstd=True, showbest=True))"
   ]
  },
  {
   "cell_type": "code",
   "execution_count": 241,
   "id": "83c4c4ca",
   "metadata": {},
   "outputs": [
    {
     "name": "stdout",
     "output_type": "stream",
     "text": [
      "/USERSPACE/lukovdg1/controlnet11/checkpoints/v5/checkpoints_coco_global_v5_exp_1/generated_extradev.pkl_1 4\n",
      "/USERSPACE/lukovdg1/controlnet11/checkpoints/v5/checkpoints_coco_global_v5_exp_1/generated_foursquares2.pkl_1 20\n",
      "/USERSPACE/lukovdg1/controlnet11/checkpoints/v5/checkpoints_coco_global_v5_exp_1/generated_openair1.pkl_2 20\n",
      "/USERSPACE/lukovdg1/controlnet11/checkpoints/v5/checkpoints_coco_global_v5_exp_1/generated_threeballs1.pkl_1 20\n",
      "/USERSPACE/lukovdg1/controlnet11/checkpoints/v5/checkpoints_coco_global_v5_exp_1/generated_threecoloredballs1.pkl_1 20\n",
      "/USERSPACE/lukovdg1/controlnet11/checkpoints/v5/checkpoints_coco_global_v5_exp_1/generated_threeorange1.pkl_1 20\n",
      "/USERSPACE/lukovdg1/controlnet11/checkpoints/v5/checkpoints_coco_global_v5_exp_1/generated_threesimplefruits1.pkl_1 20\n"
     ]
    }
   ],
   "source": [
    "datadict = process_numbers_one(*gather_numbers_one(\"/USERSPACE/lukovdg1/controlnet11/checkpoints/v5/checkpoints_coco_global_v5_exp_1/\"))"
   ]
  },
  {
   "cell_type": "code",
   "execution_count": 182,
   "id": "5ff8cbee",
   "metadata": {},
   "outputs": [],
   "source": [
    "datarow = DataRow(datadict, rowname=\"GLIGEN\", selectcols=['Metric[brisque,-]', 'Metric[maniqa,+]', 'Metric[laion_aest_score,+]', 'Metric[localclip_acc,+]', 'Metric[localclip_logits,+]', 'Metric[localclip_probs,+]'])"
   ]
  },
  {
   "cell_type": "code",
   "execution_count": 183,
   "id": "aac92210",
   "metadata": {},
   "outputs": [
    {
     "name": "stdout",
     "output_type": "stream",
     "text": [
      "['Metric[brisque,-]', 'Metric[maniqa,+]', 'Metric[laion_aest_score,+]', 'Metric[localclip_acc,+]', 'Metric[localclip_logits,+]', 'Metric[localclip_probs,+]']\n",
      "6\n",
      "GLIGEN & $30.56$ {\\scriptsize $\\pm 1.78$}$^{(10.23)}$ & $0.65$ {\\scriptsize $\\pm 0.00$}$^{(0.70)}$ & $5.51$ {\\scriptsize $\\pm 0.04$}$^{(6.08)}$ & $0.33$ {\\scriptsize $\\pm 0.01$}$^{(0.50)}$ & $21.60$ {\\scriptsize $\\pm 0.17$}$^{(23.19)}$ & $0.32$ {\\scriptsize $\\pm 0.01$}$^{(0.48)}$ \\\\\n"
     ]
    }
   ],
   "source": [
    "print(datarow.selectedcols)\n",
    "print(len(datarow.selectedcols))\n",
    "print(datarow.to_latex(showstd=True, showbest=True))"
   ]
  },
  {
   "cell_type": "code",
   "execution_count": null,
   "id": "fbbfbef6",
   "metadata": {},
   "outputs": [],
   "source": []
  },
  {
   "cell_type": "code",
   "execution_count": 10,
   "id": "367d3892",
   "metadata": {},
   "outputs": [
    {
     "name": "stdout",
     "output_type": "stream",
     "text": [
      "['a', 'b', 'c', 'd', 'e', 'f', 'g', 'h', 'i', 'j', 'k', 'l', 'm', 'n', 'o']\n"
     ]
    }
   ],
   "source": [
    "colnames = [chr(i+97) for i in range(15)]\n",
    "print(colnames)\n",
    "x = np.random.random((15, 15)) * 100"
   ]
  },
  {
   "cell_type": "code",
   "execution_count": 16,
   "id": "b57c0aed",
   "metadata": {},
   "outputs": [
    {
     "name": "stdout",
     "output_type": "stream",
     "text": [
      "\\left[\\begin{array}{ccccccccccccccc}\n",
      "    63.51 & 13.84 & 19.13 & 59.00 & 58.91 & 34.13 & 60.61 & 94.35 & 2.07 & 1.15 & 35.60 & 93.23 & 54.49 & 20.19 & 81.09 \\\\\n",
      "    97.51 & 41.62 & 22.35 & 92.01 & 6.01 & 55.41 & 69.14 & 8.29 & 97.63 & 43.21 & 43.85 & 62.19 & 32.64 & 0.98 & 2.30 \\\\\n",
      "    67.63 & 36.20 & 35.87 & 84.12 & 61.74 & 80.33 & 54.80 & 74.76 & 9.03 & 49.34 & 1.69 & 49.75 & 47.43 & 57.22 & 49.16 \\\\\n",
      "    43.51 & 80.00 & 74.66 & 89.81 & 36.55 & 16.97 & 32.79 & 87.11 & 52.71 & 83.74 & 35.26 & 91.41 & 3.38 & 30.78 & 24.96 \\\\\n",
      "    38.89 & 32.18 & 76.44 & 60.95 & 72.16 & 62.41 & 86.60 & 69.42 & 4.02 & 60.79 & 73.22 & 31.55 & 2.96 & 84.43 & 75.74 \\\\\n",
      "    50.73 & 50.91 & 46.55 & 90.98 & 3.75 & 61.69 & 70.71 & 84.40 & 78.28 & 88.59 & 4.28 & 57.70 & 65.06 & 71.12 & 85.96 \\\\\n",
      "    73.94 & 42.14 & 17.99 & 88.19 & 87.06 & 41.66 & 63.40 & 29.05 & 76.18 & 3.45 & 70.02 & 27.52 & 38.08 & 86.31 & 78.69 \\\\\n",
      "    56.86 & 30.15 & 82.00 & 32.26 & 19.37 & 58.05 & 28.25 & 48.91 & 8.06 & 56.36 & 15.65 & 1.29 & 82.73 & 54.44 & 53.71 \\\\\n",
      "    48.78 & 12.05 & 67.24 & 39.31 & 15.17 & 98.75 & 2.61 & 46.23 & 58.82 & 21.72 & 83.03 & 57.76 & 55.15 & 46.94 & 46.39 \\\\\n",
      "    49.51 & 58.49 & 58.22 & 86.71 & 53.06 & 86.00 & 49.75 & 67.89 & 78.06 & 59.43 & 94.82 & 8.94 & 26.22 & 24.36 & 95.55 \\\\\n",
      "    79.81 & 7.62 & 61.56 & 4.45 & 6.72 & 27.00 & 71.59 & 32.00 & 4.82 & 25.33 & 28.95 & 18.03 & 75.18 & 0.39 & 59.64 \\\\\n",
      "    20.28 & 37.52 & 28.88 & 66.83 & 23.53 & 79.71 & 31.64 & 10.24 & 59.74 & 46.80 & 29.39 & 43.57 & 1.19 & 27.50 & 76.24 \\\\\n",
      "    69.67 & 80.17 & 32.08 & 22.65 & 20.89 & 21.30 & 67.39 & 77.63 & 88.91 & 3.42 & 37.63 & 30.22 & 21.15 & 61.65 & 98.68 \\\\\n",
      "    77.16 & 30.59 & 80.46 & 9.16 & 63.07 & 93.22 & 38.62 & 73.05 & 34.21 & 70.67 & 89.20 & 55.14 & 73.33 & 37.05 & 68.21 \\\\\n",
      "    10.87 & 69.79 & 42.74 & 76.62 & 44.00 & 16.83 & 22.65 & 80.77 & 7.38 & 59.76 & 14.85 & 52.83 & 36.93 & 92.98 & 20.56\n",
      "\\end{array}\\right]\n"
     ]
    },
    {
     "data": {
      "text/html": [
       "<div>\n",
       "<style scoped>\n",
       "    table.matreprmatrix caption {\n",
       "        white-space: pre;\n",
       "        text-align: center;\n",
       "    }\n",
       "    table.matreprmatrix  {\n",
       "        border-collapse: collapse;\n",
       "    }\n",
       "    table.matreprmatrix > thead  {\n",
       "        border: 0px;\n",
       "    }\n",
       "    table.matreprmatrix > tbody tr th {\n",
       "        font-size: smaller;\n",
       "        vertical-align: middle;\n",
       "        text-align: right;\n",
       "    }\n",
       "    table.matreprmatrix > thead tr th {\n",
       "        font-size: smaller;\n",
       "        vertical-align: middle;\n",
       "        text-align: center;\n",
       "    }\n",
       "    table.matreprmatrix > tbody tr td {\n",
       "        vertical-align: middle;\n",
       "        text-align: center;\n",
       "        position: relative;\n",
       "    }\n",
       "    table.matreprmatrix > tbody tr td:first-of-type {\n",
       "        border-left: solid 2px;\n",
       "    }\n",
       "    table.matreprmatrix > tbody tr td:last-of-type {\n",
       "        border-right: solid 2px;\n",
       "    }\n",
       "    table.matreprmatrix > tbody tr td:empty::before {\n",
       "        content: \"\\00a0\\00a0\\00a0\";\n",
       "        visibility: hidden;\n",
       "    }\n",
       "    table.matreprmatrix > tbody tr td:empty::after {\n",
       "        content: \"\\00a0\\00a0\\00a0\";\n",
       "        visibility: hidden;\n",
       "    }\n",
       "    table.matreprmatrix > tbody > tr:first-child > td:first-of-type::before {\n",
       "        content: \"\";\n",
       "        width: 4px;\n",
       "        position: absolute;\n",
       "        top: 0;\n",
       "        bottom: 0;\n",
       "        visibility: visible;\n",
       "        left: 0;\n",
       "        right: auto;\n",
       "        border-top: solid 2px;\n",
       "    }\n",
       "    table.matreprmatrix > tbody > tr:last-child > td:first-of-type::before {\n",
       "        content: \"\";\n",
       "        width: 4px;\n",
       "        position: absolute;\n",
       "        top: 0;\n",
       "        bottom: 0;\n",
       "        visibility: visible;\n",
       "        left: 0;\n",
       "        right: auto;\n",
       "        border-bottom: solid 2px;\n",
       "    }\n",
       "    table.matreprmatrix > tbody > tr:first-child > td:last-of-type::after {\n",
       "        content: \"\";\n",
       "        width: 4px;\n",
       "        position: absolute;\n",
       "        top: 0;\n",
       "        bottom: 0;\n",
       "        visibility: visible;\n",
       "        left: auto;\n",
       "        right: 0;\n",
       "        border-top: solid 2px;\n",
       "    }\n",
       "    table.matreprmatrix > tbody > tr:last-child > td:last-of-type::after {\n",
       "        content: \"\";\n",
       "        width: 4px;\n",
       "        position: absolute;\n",
       "        top: 0;\n",
       "        bottom: 0;\n",
       "        visibility: visible;\n",
       "        left: auto;\n",
       "        right: 0;\n",
       "        border-bottom: solid 2px;\n",
       "    }\n",
       "    table.matreprtensor caption {\n",
       "        white-space: pre;\n",
       "        text-align: center;\n",
       "    }\n",
       "    table.matreprtensor > thead  {\n",
       "        border: 0px;\n",
       "    }\n",
       "    table.matreprtensor > tbody tr th {\n",
       "        font-size: smaller;\n",
       "        vertical-align: middle;\n",
       "        text-align: right;\n",
       "    }\n",
       "    table.matreprtensor > thead tr th {\n",
       "        font-size: smaller;\n",
       "        vertical-align: middle;\n",
       "        text-align: center;\n",
       "    }\n",
       "    table.matreprtensor > tbody tr td {\n",
       "        vertical-align: middle;\n",
       "        text-align: center;\n",
       "        position: relative;\n",
       "    }\n",
       "    table.matreprtensor > tbody tr th:last-of-type {\n",
       "        border-right: solid 2px;\n",
       "    }\n",
       "</style>\n",
       "<table class=\"matreprmatrix\">\n",
       "<caption>15×15, 225 &#x27;float64&#x27; elements, array</caption>\n",
       "    <thead>\n",
       "    <tr>\n",
       "        <th></th>\n",
       "        <th style=\"text-align: center;\">a</th>\n",
       "        <th style=\"text-align: center;\">b</th>\n",
       "        <th style=\"text-align: center;\">c</th>\n",
       "        <th style=\"text-align: center;\">d</th>\n",
       "        <th style=\"text-align: center;\">e</th>\n",
       "        <th style=\"text-align: center;\">f</th>\n",
       "        <th style=\"text-align: center;\">g</th>\n",
       "        <th style=\"text-align: center;\">h</th>\n",
       "        <th style=\"text-align: center;\">i</th>\n",
       "        <th style=\"text-align: center;\">j</th>\n",
       "        <th style=\"text-align: center;\">k</th>\n",
       "        <th style=\"text-align: center;\">l</th>\n",
       "        <th style=\"text-align: center;\">m</th>\n",
       "        <th style=\"text-align: center;\">n</th>\n",
       "        <th style=\"text-align: center;\">o</th>\n",
       "    </tr>\n",
       "    </thead>\n",
       "    <tbody>\n",
       "    <tr>\n",
       "        <th>0</th>\n",
       "        <td style=\"text-align: center;\">63.51</td>\n",
       "        <td style=\"text-align: center;\">13.84</td>\n",
       "        <td style=\"text-align: center;\">19.13</td>\n",
       "        <td style=\"text-align: center;\">59.00</td>\n",
       "        <td style=\"text-align: center;\">58.91</td>\n",
       "        <td style=\"text-align: center;\">34.13</td>\n",
       "        <td style=\"text-align: center;\">60.61</td>\n",
       "        <td style=\"text-align: center;\">94.35</td>\n",
       "        <td style=\"text-align: center;\">2.07</td>\n",
       "        <td style=\"text-align: center;\">1.15</td>\n",
       "        <td style=\"text-align: center;\">35.60</td>\n",
       "        <td style=\"text-align: center;\">93.23</td>\n",
       "        <td style=\"text-align: center;\">54.49</td>\n",
       "        <td style=\"text-align: center;\">20.19</td>\n",
       "        <td style=\"text-align: center;\">81.09</td>\n",
       "    </tr>\n",
       "    <tr>\n",
       "        <th>1</th>\n",
       "        <td style=\"text-align: center;\">97.51</td>\n",
       "        <td style=\"text-align: center;\">41.62</td>\n",
       "        <td style=\"text-align: center;\">22.35</td>\n",
       "        <td style=\"text-align: center;\">92.01</td>\n",
       "        <td style=\"text-align: center;\">6.01</td>\n",
       "        <td style=\"text-align: center;\">55.41</td>\n",
       "        <td style=\"text-align: center;\">69.14</td>\n",
       "        <td style=\"text-align: center;\">8.29</td>\n",
       "        <td style=\"text-align: center;\">97.63</td>\n",
       "        <td style=\"text-align: center;\">43.21</td>\n",
       "        <td style=\"text-align: center;\">43.85</td>\n",
       "        <td style=\"text-align: center;\">62.19</td>\n",
       "        <td style=\"text-align: center;\">32.64</td>\n",
       "        <td style=\"text-align: center;\">0.98</td>\n",
       "        <td style=\"text-align: center;\">2.30</td>\n",
       "    </tr>\n",
       "    <tr>\n",
       "        <th>2</th>\n",
       "        <td style=\"text-align: center;\">67.63</td>\n",
       "        <td style=\"text-align: center;\">36.20</td>\n",
       "        <td style=\"text-align: center;\">35.87</td>\n",
       "        <td style=\"text-align: center;\">84.12</td>\n",
       "        <td style=\"text-align: center;\">61.74</td>\n",
       "        <td style=\"text-align: center;\">80.33</td>\n",
       "        <td style=\"text-align: center;\">54.80</td>\n",
       "        <td style=\"text-align: center;\">74.76</td>\n",
       "        <td style=\"text-align: center;\">9.03</td>\n",
       "        <td style=\"text-align: center;\">49.34</td>\n",
       "        <td style=\"text-align: center;\">1.69</td>\n",
       "        <td style=\"text-align: center;\">49.75</td>\n",
       "        <td style=\"text-align: center;\">47.43</td>\n",
       "        <td style=\"text-align: center;\">57.22</td>\n",
       "        <td style=\"text-align: center;\">49.16</td>\n",
       "    </tr>\n",
       "    <tr>\n",
       "        <th>3</th>\n",
       "        <td style=\"text-align: center;\">43.51</td>\n",
       "        <td style=\"text-align: center;\">80.00</td>\n",
       "        <td style=\"text-align: center;\">74.66</td>\n",
       "        <td style=\"text-align: center;\">89.81</td>\n",
       "        <td style=\"text-align: center;\">36.55</td>\n",
       "        <td style=\"text-align: center;\">16.97</td>\n",
       "        <td style=\"text-align: center;\">32.79</td>\n",
       "        <td style=\"text-align: center;\">87.11</td>\n",
       "        <td style=\"text-align: center;\">52.71</td>\n",
       "        <td style=\"text-align: center;\">83.74</td>\n",
       "        <td style=\"text-align: center;\">35.26</td>\n",
       "        <td style=\"text-align: center;\">91.41</td>\n",
       "        <td style=\"text-align: center;\">3.38</td>\n",
       "        <td style=\"text-align: center;\">30.78</td>\n",
       "        <td style=\"text-align: center;\">24.96</td>\n",
       "    </tr>\n",
       "    <tr>\n",
       "        <th>4</th>\n",
       "        <td style=\"text-align: center;\">38.89</td>\n",
       "        <td style=\"text-align: center;\">32.18</td>\n",
       "        <td style=\"text-align: center;\">76.44</td>\n",
       "        <td style=\"text-align: center;\">60.95</td>\n",
       "        <td style=\"text-align: center;\">72.16</td>\n",
       "        <td style=\"text-align: center;\">62.41</td>\n",
       "        <td style=\"text-align: center;\">86.60</td>\n",
       "        <td style=\"text-align: center;\">69.42</td>\n",
       "        <td style=\"text-align: center;\">4.02</td>\n",
       "        <td style=\"text-align: center;\">60.79</td>\n",
       "        <td style=\"text-align: center;\">73.22</td>\n",
       "        <td style=\"text-align: center;\">31.55</td>\n",
       "        <td style=\"text-align: center;\">2.96</td>\n",
       "        <td style=\"text-align: center;\">84.43</td>\n",
       "        <td style=\"text-align: center;\">75.74</td>\n",
       "    </tr>\n",
       "    <tr>\n",
       "        <th>5</th>\n",
       "        <td style=\"text-align: center;\">50.73</td>\n",
       "        <td style=\"text-align: center;\">50.91</td>\n",
       "        <td style=\"text-align: center;\">46.55</td>\n",
       "        <td style=\"text-align: center;\">90.98</td>\n",
       "        <td style=\"text-align: center;\">3.75</td>\n",
       "        <td style=\"text-align: center;\">61.69</td>\n",
       "        <td style=\"text-align: center;\">70.71</td>\n",
       "        <td style=\"text-align: center;\">84.40</td>\n",
       "        <td style=\"text-align: center;\">78.28</td>\n",
       "        <td style=\"text-align: center;\">88.59</td>\n",
       "        <td style=\"text-align: center;\">4.28</td>\n",
       "        <td style=\"text-align: center;\">57.70</td>\n",
       "        <td style=\"text-align: center;\">65.06</td>\n",
       "        <td style=\"text-align: center;\">71.12</td>\n",
       "        <td style=\"text-align: center;\">85.96</td>\n",
       "    </tr>\n",
       "    <tr>\n",
       "        <th>6</th>\n",
       "        <td style=\"text-align: center;\">73.94</td>\n",
       "        <td style=\"text-align: center;\">42.14</td>\n",
       "        <td style=\"text-align: center;\">17.99</td>\n",
       "        <td style=\"text-align: center;\">88.19</td>\n",
       "        <td style=\"text-align: center;\">87.06</td>\n",
       "        <td style=\"text-align: center;\">41.66</td>\n",
       "        <td style=\"text-align: center;\">63.40</td>\n",
       "        <td style=\"text-align: center;\">29.05</td>\n",
       "        <td style=\"text-align: center;\">76.18</td>\n",
       "        <td style=\"text-align: center;\">3.45</td>\n",
       "        <td style=\"text-align: center;\">70.02</td>\n",
       "        <td style=\"text-align: center;\">27.52</td>\n",
       "        <td style=\"text-align: center;\">38.08</td>\n",
       "        <td style=\"text-align: center;\">86.31</td>\n",
       "        <td style=\"text-align: center;\">78.69</td>\n",
       "    </tr>\n",
       "    <tr>\n",
       "        <th>7</th>\n",
       "        <td style=\"text-align: center;\">56.86</td>\n",
       "        <td style=\"text-align: center;\">30.15</td>\n",
       "        <td style=\"text-align: center;\">82.00</td>\n",
       "        <td style=\"text-align: center;\">32.26</td>\n",
       "        <td style=\"text-align: center;\">19.37</td>\n",
       "        <td style=\"text-align: center;\">58.05</td>\n",
       "        <td style=\"text-align: center;\">28.25</td>\n",
       "        <td style=\"text-align: center;\">48.91</td>\n",
       "        <td style=\"text-align: center;\">8.06</td>\n",
       "        <td style=\"text-align: center;\">56.36</td>\n",
       "        <td style=\"text-align: center;\">15.65</td>\n",
       "        <td style=\"text-align: center;\">1.29</td>\n",
       "        <td style=\"text-align: center;\">82.73</td>\n",
       "        <td style=\"text-align: center;\">54.44</td>\n",
       "        <td style=\"text-align: center;\">53.71</td>\n",
       "    </tr>\n",
       "    <tr>\n",
       "        <th>8</th>\n",
       "        <td style=\"text-align: center;\">48.78</td>\n",
       "        <td style=\"text-align: center;\">12.05</td>\n",
       "        <td style=\"text-align: center;\">67.24</td>\n",
       "        <td style=\"text-align: center;\">39.31</td>\n",
       "        <td style=\"text-align: center;\">15.17</td>\n",
       "        <td style=\"text-align: center;\">98.75</td>\n",
       "        <td style=\"text-align: center;\">2.61</td>\n",
       "        <td style=\"text-align: center;\">46.23</td>\n",
       "        <td style=\"text-align: center;\">58.82</td>\n",
       "        <td style=\"text-align: center;\">21.72</td>\n",
       "        <td style=\"text-align: center;\">83.03</td>\n",
       "        <td style=\"text-align: center;\">57.76</td>\n",
       "        <td style=\"text-align: center;\">55.15</td>\n",
       "        <td style=\"text-align: center;\">46.94</td>\n",
       "        <td style=\"text-align: center;\">46.39</td>\n",
       "    </tr>\n",
       "    <tr>\n",
       "        <th>9</th>\n",
       "        <td style=\"text-align: center;\">49.51</td>\n",
       "        <td style=\"text-align: center;\">58.49</td>\n",
       "        <td style=\"text-align: center;\">58.22</td>\n",
       "        <td style=\"text-align: center;\">86.71</td>\n",
       "        <td style=\"text-align: center;\">53.06</td>\n",
       "        <td style=\"text-align: center;\">86.00</td>\n",
       "        <td style=\"text-align: center;\">49.75</td>\n",
       "        <td style=\"text-align: center;\">67.89</td>\n",
       "        <td style=\"text-align: center;\">78.06</td>\n",
       "        <td style=\"text-align: center;\">59.43</td>\n",
       "        <td style=\"text-align: center;\">94.82</td>\n",
       "        <td style=\"text-align: center;\">8.94</td>\n",
       "        <td style=\"text-align: center;\">26.22</td>\n",
       "        <td style=\"text-align: center;\">24.36</td>\n",
       "        <td style=\"text-align: center;\">95.55</td>\n",
       "    </tr>\n",
       "    <tr>\n",
       "        <th>10</th>\n",
       "        <td style=\"text-align: center;\">79.81</td>\n",
       "        <td style=\"text-align: center;\">7.62</td>\n",
       "        <td style=\"text-align: center;\">61.56</td>\n",
       "        <td style=\"text-align: center;\">4.45</td>\n",
       "        <td style=\"text-align: center;\">6.72</td>\n",
       "        <td style=\"text-align: center;\">27.00</td>\n",
       "        <td style=\"text-align: center;\">71.59</td>\n",
       "        <td style=\"text-align: center;\">32.00</td>\n",
       "        <td style=\"text-align: center;\">4.82</td>\n",
       "        <td style=\"text-align: center;\">25.33</td>\n",
       "        <td style=\"text-align: center;\">28.95</td>\n",
       "        <td style=\"text-align: center;\">18.03</td>\n",
       "        <td style=\"text-align: center;\">75.18</td>\n",
       "        <td style=\"text-align: center;\">0.39</td>\n",
       "        <td style=\"text-align: center;\">59.64</td>\n",
       "    </tr>\n",
       "    <tr>\n",
       "        <th>11</th>\n",
       "        <td style=\"text-align: center;\">20.28</td>\n",
       "        <td style=\"text-align: center;\">37.52</td>\n",
       "        <td style=\"text-align: center;\">28.88</td>\n",
       "        <td style=\"text-align: center;\">66.83</td>\n",
       "        <td style=\"text-align: center;\">23.53</td>\n",
       "        <td style=\"text-align: center;\">79.71</td>\n",
       "        <td style=\"text-align: center;\">31.64</td>\n",
       "        <td style=\"text-align: center;\">10.24</td>\n",
       "        <td style=\"text-align: center;\">59.74</td>\n",
       "        <td style=\"text-align: center;\">46.80</td>\n",
       "        <td style=\"text-align: center;\">29.39</td>\n",
       "        <td style=\"text-align: center;\">43.57</td>\n",
       "        <td style=\"text-align: center;\">1.19</td>\n",
       "        <td style=\"text-align: center;\">27.50</td>\n",
       "        <td style=\"text-align: center;\">76.24</td>\n",
       "    </tr>\n",
       "    <tr>\n",
       "        <th>12</th>\n",
       "        <td style=\"text-align: center;\">69.67</td>\n",
       "        <td style=\"text-align: center;\">80.17</td>\n",
       "        <td style=\"text-align: center;\">32.08</td>\n",
       "        <td style=\"text-align: center;\">22.65</td>\n",
       "        <td style=\"text-align: center;\">20.89</td>\n",
       "        <td style=\"text-align: center;\">21.30</td>\n",
       "        <td style=\"text-align: center;\">67.39</td>\n",
       "        <td style=\"text-align: center;\">77.63</td>\n",
       "        <td style=\"text-align: center;\">88.91</td>\n",
       "        <td style=\"text-align: center;\">3.42</td>\n",
       "        <td style=\"text-align: center;\">37.63</td>\n",
       "        <td style=\"text-align: center;\">30.22</td>\n",
       "        <td style=\"text-align: center;\">21.15</td>\n",
       "        <td style=\"text-align: center;\">61.65</td>\n",
       "        <td style=\"text-align: center;\">98.68</td>\n",
       "    </tr>\n",
       "    <tr>\n",
       "        <th>13</th>\n",
       "        <td style=\"text-align: center;\">77.16</td>\n",
       "        <td style=\"text-align: center;\">30.59</td>\n",
       "        <td style=\"text-align: center;\">80.46</td>\n",
       "        <td style=\"text-align: center;\">9.16</td>\n",
       "        <td style=\"text-align: center;\">63.07</td>\n",
       "        <td style=\"text-align: center;\">93.22</td>\n",
       "        <td style=\"text-align: center;\">38.62</td>\n",
       "        <td style=\"text-align: center;\">73.05</td>\n",
       "        <td style=\"text-align: center;\">34.21</td>\n",
       "        <td style=\"text-align: center;\">70.67</td>\n",
       "        <td style=\"text-align: center;\">89.20</td>\n",
       "        <td style=\"text-align: center;\">55.14</td>\n",
       "        <td style=\"text-align: center;\">73.33</td>\n",
       "        <td style=\"text-align: center;\">37.05</td>\n",
       "        <td style=\"text-align: center;\">68.21</td>\n",
       "    </tr>\n",
       "    <tr>\n",
       "        <th>14</th>\n",
       "        <td style=\"text-align: center;\">10.87</td>\n",
       "        <td style=\"text-align: center;\">69.79</td>\n",
       "        <td style=\"text-align: center;\">42.74</td>\n",
       "        <td style=\"text-align: center;\">76.62</td>\n",
       "        <td style=\"text-align: center;\">44.00</td>\n",
       "        <td style=\"text-align: center;\">16.83</td>\n",
       "        <td style=\"text-align: center;\">22.65</td>\n",
       "        <td style=\"text-align: center;\">80.77</td>\n",
       "        <td style=\"text-align: center;\">7.38</td>\n",
       "        <td style=\"text-align: center;\">59.76</td>\n",
       "        <td style=\"text-align: center;\">14.85</td>\n",
       "        <td style=\"text-align: center;\">52.83</td>\n",
       "        <td style=\"text-align: center;\">36.93</td>\n",
       "        <td style=\"text-align: center;\">92.98</td>\n",
       "        <td style=\"text-align: center;\">20.56</td>\n",
       "    </tr>\n",
       "    </tbody>\n",
       "</table>\n",
       "</div>"
      ],
      "text/plain": [
       "<IPython.core.display.HTML object>"
      ]
     },
     "metadata": {},
     "output_type": "display_data"
    }
   ],
   "source": [
    "print(matrepr.to_latex(x, floatfmt=\".2f\", max_rows=50, max_cols=50))\n",
    "matrepr.mdisplay(x, floatfmt=\".2f\", max_rows=50, max_cols=50, col_labels=colnames)"
   ]
  },
  {
   "cell_type": "code",
   "execution_count": 280,
   "id": "b79e4c9b",
   "metadata": {},
   "outputs": [
    {
     "data": {
      "text/plain": [
       "<module 'pickle' from '/home/lukovdg1/.conda/envs/control-v11/lib/python3.8/pickle.py'>"
      ]
     },
     "execution_count": 280,
     "metadata": {},
     "output_type": "execute_result"
    }
   ],
   "source": [
    "pkl"
   ]
  },
  {
   "cell_type": "code",
   "execution_count": 283,
   "id": "97bc4f2a",
   "metadata": {},
   "outputs": [],
   "source": [
    "d = pkl.load(open(\"/USERSPACE/lukovdg1/DenseDiffusion/dd_outputs/extradev_1_out/outbatches.pkl\", \"rb\"))"
   ]
  },
  {
   "cell_type": "code",
   "execution_count": 284,
   "id": "f587c410",
   "metadata": {},
   "outputs": [
    {
     "data": {
      "text/plain": [
       "4"
      ]
     },
     "execution_count": 284,
     "metadata": {},
     "output_type": "execute_result"
    }
   ],
   "source": [
    "len(d)"
   ]
  },
  {
   "cell_type": "code",
   "execution_count": 292,
   "id": "32ab5821",
   "metadata": {},
   "outputs": [
    {
     "data": {
      "text/plain": [
       "(512, 512)"
      ]
     },
     "execution_count": 292,
     "metadata": {},
     "output_type": "execute_result"
    }
   ],
   "source": [
    "d[0][0][\"image\"].size"
   ]
  },
  {
   "cell_type": "code",
   "execution_count": null,
   "id": "b2198551",
   "metadata": {},
   "outputs": [],
   "source": []
  },
  {
   "cell_type": "code",
   "execution_count": null,
   "id": "5988dab2",
   "metadata": {},
   "outputs": [],
   "source": []
  },
  {
   "cell_type": "code",
   "execution_count": null,
   "id": "06c61135",
   "metadata": {},
   "outputs": [],
   "source": []
  },
  {
   "cell_type": "code",
   "execution_count": 391,
   "id": "107da44f",
   "metadata": {},
   "outputs": [],
   "source": [
    "from matplotlib import pyplot as plt\n",
    "import seaborn as sns\n",
    "import torch\n",
    "import random\n",
    "plt.rcParams['figure.figsize'] = (6,2)\n",
    "from matplotlib.ticker import FormatStrFormatter"
   ]
  },
  {
   "cell_type": "code",
   "execution_count": null,
   "id": "ce4c5eb0",
   "metadata": {},
   "outputs": [],
   "source": []
  },
  {
   "cell_type": "code",
   "execution_count": 374,
   "id": "cf4cff87",
   "metadata": {},
   "outputs": [],
   "source": [
    "qk = torch.randn(12)\n",
    "c = qk.softmax(-1)"
   ]
  },
  {
   "cell_type": "code",
   "execution_count": 385,
   "id": "a354795a",
   "metadata": {},
   "outputs": [],
   "source": [
    "b_frt = torch.tensor([0,0,0,0,0,0,0,0,0,1,1,0])\n",
    "b_R = torch.tensor([0,0,0,0,0,1,0,1,0,1,1,0])"
   ]
  },
  {
   "cell_type": "code",
   "execution_count": 403,
   "id": "723a0294",
   "metadata": {},
   "outputs": [],
   "source": [
    "c_local = (torch.log(b_frt) + qk).softmax(-1)\n",
    "c_global = (torch.log(1 - b_R) + qk).softmax(-1)\n",
    "m = (b_R * c).sum()\n",
    "c_new = m * c_local + (1 - m) * c_global\n",
    "\n",
    "xs = [i + 1 for i in range(len(c))]"
   ]
  },
  {
   "cell_type": "code",
   "execution_count": 404,
   "id": "2009dd1e",
   "metadata": {},
   "outputs": [
    {
     "name": "stdout",
     "output_type": "stream",
     "text": [
      "tensor(0.5164)\n"
     ]
    }
   ],
   "source": [
    "print(m)"
   ]
  },
  {
   "cell_type": "code",
   "execution_count": 430,
   "id": "77152b57",
   "metadata": {},
   "outputs": [
    {
     "data": {
      "image/png": "[encoded data removed]",
      "text/plain": [
       "<Figure size 600x200 with 1 Axes>"
      ]
     },
     "metadata": {},
     "output_type": "display_data"
    }
   ],
   "source": [
    "fig, ax = plt.subplots()\n",
    "\n",
    "bars = ax.bar(xs, c.numpy())\n",
    "ax.set_xticks(xs)\n",
    "ax.set_xticklabels(xs)\n",
    "ax.yaxis.set_major_formatter(FormatStrFormatter('%.3f'))\n",
    "\n",
    "bars[5].set_color(\"#aaaaaa\")\n",
    "bars[7].set_color(\"#aaaaaa\")\n",
    "bars[9].set_color(\"#dd5555\")\n",
    "bars[10].set_color(\"#dd5555\")"
   ]
  },
  {
   "cell_type": "code",
   "execution_count": 431,
   "id": "d1f47e2f",
   "metadata": {},
   "outputs": [
    {
     "data": {
      "image/png": "[encoded data removed]",
      "text/plain": [
       "<Figure size 600x200 with 1 Axes>"
      ]
     },
     "metadata": {},
     "output_type": "display_data"
    }
   ],
   "source": [
    "fig, ax = plt.subplots()\n",
    "\n",
    "bars = ax.bar(xs, c_local.numpy())\n",
    "ax.set_xticks(xs)\n",
    "ax.set_xticklabels(xs)\n",
    "ax.yaxis.set_major_formatter(FormatStrFormatter('%.3f'))\n",
    "\n",
    "bars[9].set_color(\"#dd5555\")\n",
    "bars[10].set_color(\"#dd5555\")"
   ]
  },
  {
   "cell_type": "code",
   "execution_count": 432,
   "id": "85bbbee4",
   "metadata": {},
   "outputs": [
    {
     "data": {
      "image/png": "[encoded data removed]",
      "text/plain": [
       "<Figure size 600x200 with 1 Axes>"
      ]
     },
     "metadata": {},
     "output_type": "display_data"
    }
   ],
   "source": [
    "fig, ax = plt.subplots()\n",
    "\n",
    "ax.bar(xs, c_global.numpy())\n",
    "ax.set_xticks(xs)\n",
    "ax.set_xticklabels(xs)\n",
    "ax.yaxis.set_major_formatter(FormatStrFormatter('%.3f'))"
   ]
  },
  {
   "cell_type": "code",
   "execution_count": 433,
   "id": "3f50eef1",
   "metadata": {},
   "outputs": [
    {
     "data": {
      "image/png": "[encoded data removed]",
      "text/plain": [
       "<Figure size 600x200 with 1 Axes>"
      ]
     },
     "metadata": {},
     "output_type": "display_data"
    }
   ],
   "source": [
    "fig, ax = plt.subplots()\n",
    "\n",
    "bars = ax.bar(xs, c_new.numpy())\n",
    "ax.set_xticks(xs)\n",
    "ax.set_xticklabels(xs)\n",
    "ax.yaxis.set_major_formatter(FormatStrFormatter('%.3f'))\n",
    "\n",
    "bars[9].set_color(\"#dd5555\")\n",
    "bars[10].set_color(\"#dd5555\")"
   ]
  },
  {
   "cell_type": "code",
   "execution_count": 434,
   "id": "99e64ef0",
   "metadata": {},
   "outputs": [
    {
     "data": {
      "text/plain": [
       "tensor([ 1.8626e-09,  7.4506e-09,  1.1176e-08,  7.4506e-09,  3.7253e-09,\n",
       "         2.2209e-01,  7.4506e-09,  2.3213e-01,  4.4703e-08, -6.1381e-02,\n",
       "        -3.9284e-01,  2.2352e-08])"
      ]
     },
     "execution_count": 434,
     "metadata": {},
     "output_type": "execute_result"
    }
   ],
   "source": [
    "c - c_new"
   ]
  },
  {
   "cell_type": "code",
   "execution_count": 435,
   "id": "50e6d4fa",
   "metadata": {},
   "outputs": [
    {
     "data": {
      "image/png": "[encoded data removed]",
      "text/plain": [
       "<Figure size 600x200 with 1 Axes>"
      ]
     },
     "metadata": {},
     "output_type": "display_data"
    }
   ],
   "source": [
    "fig, ax = plt.subplots()\n",
    "\n",
    "bars = ax.bar(xs, (c_new - c).numpy())\n",
    "ax.set_xticks(xs)\n",
    "ax.set_xticklabels(xs)\n",
    "ax.yaxis.set_major_formatter(FormatStrFormatter('%.3f'))\n",
    "\n",
    "bars[5].set_color(\"#aaaaaa\")\n",
    "bars[7].set_color(\"#aaaaaa\")\n",
    "bars[9].set_color(\"#dd5555\")\n",
    "bars[10].set_color(\"#dd5555\")"
   ]
  },
  {
   "cell_type": "code",
   "execution_count": 437,
   "id": "00a29703",
   "metadata": {},
   "outputs": [
    {
     "data": {
      "image/png": "[encoded data removed]",
      "text/plain": [
       "<Figure size 600x200 with 1 Axes>"
      ]
     },
     "metadata": {},
     "output_type": "display_data"
    }
   ],
   "source": [
    "fig, ax = plt.subplots()\n",
    "\n",
    "bars = ax.bar(xs, b_R.numpy())\n",
    "ax.set_xticks(xs)\n",
    "ax.set_xticklabels(xs)\n",
    "ax.yaxis.set_major_formatter(FormatStrFormatter('%.3f'))\n"
   ]
  },
  {
   "cell_type": "code",
   "execution_count": 438,
   "id": "6d88c658",
   "metadata": {},
   "outputs": [
    {
     "data": {
      "image/png": "[encoded data removed]",
      "text/plain": [
       "<Figure size 600x200 with 1 Axes>"
      ]
     },
     "metadata": {},
     "output_type": "display_data"
    }
   ],
   "source": [
    "fig, ax = plt.subplots()\n",
    "\n",
    "bars = ax.bar(xs, b_frt.numpy())\n",
    "ax.set_xticks(xs)\n",
    "ax.set_xticklabels(xs)\n",
    "ax.yaxis.set_major_formatter(FormatStrFormatter('%.3f'))\n"
   ]
  },
  {
   "cell_type": "code",
   "execution_count": null,
   "id": "fc081e83",
   "metadata": {},
   "outputs": [],
   "source": []
  }
 ],
 "metadata": {
  "kernelspec": {
   "display_name": "controlv11",
   "language": "python",
   "name": "controlv11"
  },
  "language_info": {
   "codemirror_mode": {
    "name": "ipython",
    "version": 3
   },
   "file_extension": ".py",
   "mimetype": "text/x-python",
   "name": "python",
   "nbconvert_exporter": "python",
   "pygments_lexer": "ipython3",
   "version": "3.8.5"
  }
 },
 "nbformat": 4,
 "nbformat_minor": 5
}
